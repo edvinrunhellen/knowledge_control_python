{
 "cells": [
  {
   "cell_type": "markdown",
   "id": "4807354b-c315-4b50-9c99-c83adf5976c1",
   "metadata": {},
   "source": [
    "Vad är skillnaden på en tuple och list i Python? Är den ena datatypen bättre än den\n",
    "andra? "
   ]
  },
  {
   "cell_type": "markdown",
   "id": "d01b1f71-9a0a-433b-b1ab-04db57fbc919",
   "metadata": {},
   "source": [
    "Tuples is one of many ways to store multiple items in a single variable. A tuple is also a collection that is unchangeable, in order and allow duplicates. You define tuples by writing round brackets \"()\"\n",
    "List is also one of many ways to store multiple items in a single variable. List items are ordered, changeable and allow duplicates. You define them by writing square brackets \"[]\".\n",
    "The differnce is that tuples are not changeable while list are. Since tuples are immutable and have a fixed length once defined they use less memory. Lists are mutable. "
   ]
  },
  {
   "cell_type": "markdown",
   "id": "ae73d927-72a7-4eb4-8d32-055ded2c594d",
   "metadata": {},
   "source": [
    "Vad är en funktion för något? Varför kan funktioner vara användbara? "
   ]
  },
  {
   "cell_type": "markdown",
   "id": "38321123-ff7c-43e7-a3dd-22a6b549fdd9",
   "metadata": {},
   "source": [
    "A function is a snippet of code used to do something. Often used to avoid duplicate coding. Functions often take an input (parameters) and returns an output. Below there is a example of a simple addition function."
   ]
  },
  {
   "cell_type": "code",
   "execution_count": 15,
   "id": "82875ef4-97c6-4057-9939-f6605c6576c3",
   "metadata": {},
   "outputs": [
    {
     "name": "stdout",
     "output_type": "stream",
     "text": [
      "2\n"
     ]
    }
   ],
   "source": [
    "def addition(x,y):\n",
    "    result = x + y\n",
    "    print(result)\n",
    "\n",
    "addition(1, 1)\n"
   ]
  },
  {
   "cell_type": "markdown",
   "id": "62ab8d84-ec45-438d-abd9-c529fafdf5d3",
   "metadata": {},
   "source": [
    "Above the function is defined by \"def\" and the function name \"addition\". In the following brackets x and y is defined meaning two arguments is excpected while executing the code. Those values are called parameters. A new variable is defined which stores the result of x + y. Lastly when the function is called it will print \"result\" the result of x + y. On row 5 the function is called with 2 arguments defined (1 and 1). When executing the code result is printed which is 2. "
   ]
  },
  {
   "cell_type": "markdown",
   "id": "8d42ab02-e1ed-4c51-8ebb-2cf2c414031f",
   "metadata": {},
   "source": [
    "Förklara vad nedanstående begrepp, kopplat till klasser, betyder: "
   ]
  },
  {
   "cell_type": "markdown",
   "id": "279a3092-7e44-428a-8846-afc2ddbc3a1e",
   "metadata": {},
   "source": [
    "a) an instance defines the values predetermined in the class attributes. "
   ]
  },
  {
   "cell_type": "code",
   "execution_count": 24,
   "id": "574ff0f4-03d1-4de8-babe-cee72a0cf12d",
   "metadata": {},
   "outputs": [],
   "source": [
    "class Hero:\n",
    "    def __init__(self, name, age):\n",
    "        self.name = name\n",
    "        self.age = age\n",
    "\n",
    "# instance of the class\n",
    "a = Hero(\"Edvin\", 25)"
   ]
  },
  {
   "cell_type": "markdown",
   "id": "93100260-04d6-48c8-8f2f-4777b02f4ea3",
   "metadata": {},
   "source": [
    "b) Attribute is what defines what the instance need to contain. In the example above the attributes is name and age. This is something that must be defined if you want to create a instance of the object."
   ]
  },
  {
   "cell_type": "markdown",
   "id": "c9a36254-9c30-4cab-9c6d-a13a6f7ffae7",
   "metadata": {},
   "source": [
    "c) A method is simply a function inside a class. A class can use both attributes and methods to form a useful class."
   ]
  },
  {
   "cell_type": "markdown",
   "id": "a977f33f-e729-40da-9066-0df9e4a897bd",
   "metadata": {},
   "source": [
    "Vad är Streamlit för något? "
   ]
  },
  {
   "cell_type": "markdown",
   "id": "959377c5-281c-4dde-89f1-792ba9be22e8",
   "metadata": {},
   "source": [
    "Streamlit is a third party library in Python used to create webb applications. It's syntax is relative easy to understand and can be cocreated with librarys as pandas, matplotlib and numpy. Streamlit is simply a way to visualize data in a fashionable manner without much of frontend knowledge. Elements as input, compile data and visualize results is simple to do."
   ]
  },
  {
   "cell_type": "markdown",
   "id": "427aab86-fb85-4e30-b898-3b7f133e207f",
   "metadata": {},
   "source": [
    "I Python ska du nu:\n",
    "a) Skapa en klass som heter BankAccount. Klassen skall ha attributet \"account_holder\"\n",
    "som visar kontoinnehavarens namn samt attributet \"balance\" som visar\n",
    "kontoinnehavarens balans. Klassen skall ha metoden \"deposit()\" för att kunna sätta in\n",
    "pengar på kontot samt metoden \"withdraw()\" för att kunna ta ut pengar från kontot. Om\n",
    "bankinnehavaren försöker ta ut mer pengar än vad som finns på kontot skall\n",
    "meddelandet \"Too low balance\" printas ut.\n",
    "\n",
    "b) Skapa en instans av klassen och testa så klassen funkar så som du förväntar dig. Du\n",
    "kan till exempel prova printa ut attributen, sätta in pengar och ta ut pengar."
   ]
  },
  {
   "cell_type": "code",
   "execution_count": 45,
   "id": "d5fd67c5-1715-4af4-a41b-fcd155785ac5",
   "metadata": {},
   "outputs": [
    {
     "name": "stdout",
     "output_type": "stream",
     "text": [
      "1100\n",
      "1000\n",
      "1000\n",
      "0\n",
      "0\n",
      "To low balance\n",
      "0\n"
     ]
    }
   ],
   "source": [
    "class BankAccount:\n",
    "    \"\"\"Simulation of a bankhandling system\"\"\"\n",
    "    def __init__(self, account_holder, balance):\n",
    "        self.account_holder = account_holder\n",
    "        self.balance = balance\n",
    "    \n",
    "    def deposit(self, deposit):\n",
    "        self.balance += deposit\n",
    "        return self.balance\n",
    "    \n",
    "    def withdraw(self, withdraw):\n",
    "        if self.balance - withdraw < 0:\n",
    "            print(\"To low balance\")\n",
    "        else:\n",
    "            self.balance -= withdraw\n",
    "        return self.balance\n",
    "\n",
    "account_1 = BankAccount(\"Edvin\", 100)\n",
    "\n",
    "print(account_1.deposit(1000))\n",
    "print(account_1.withdraw(100))\n",
    "print(account_1.balance)\n",
    "print(account_1.withdraw(1000))\n",
    "print(account_1.balance)\n",
    "print(account_1.withdraw(1000))"
   ]
  },
  {
   "cell_type": "markdown",
   "id": "4d6b8a21-cbce-4c23-b5e9-84f14331169a",
   "metadata": {},
   "source": [
    "6. På intervjuer brukar ibland kodtest genomföras. Här är ett exempel på en fråga som hade\n",
    "kunnat dyka upp på ett kodtest.\n",
    "Skapa en Python funktion som beräknar antalet vokaler i en sträng. Vokalerna är:\n",
    "A, E, I, O, U, Y, Å, Ä och Ö. Exempelvis: vowel_checker(’hjärna’) ska returnera ”2” eftersom ordet ”hjärna” har de två\n",
    "vokalerna ”ä” och ”a”"
   ]
  },
  {
   "cell_type": "code",
   "execution_count": 56,
   "id": "0b516cd6-7d8a-4b7d-bff8-1bc8acda1b6e",
   "metadata": {},
   "outputs": [
    {
     "name": "stdout",
     "output_type": "stream",
     "text": [
      "Number of vowels is: 7\n"
     ]
    }
   ],
   "source": [
    "def vowel_checker(string):\n",
    "    vowels = \"aeiouåäöAEIOUÅÄÖ\"\n",
    "    i = 0\n",
    "    for char in string:\n",
    "        if char in vowels:\n",
    "            i += 1\n",
    "    return i\n",
    "result = vowel_checker(\"Hello, my name is Edvin\")\n",
    "print(\"Number of vowels is:\", result)"
   ]
  },
  {
   "cell_type": "markdown",
   "id": "f452bd1e-b3a9-43b1-95a4-9a101af56a54",
   "metadata": {},
   "source": [
    "På intervjuer brukar ibland kodtest genomföras. Här är ett exempel på en fråga som hade\n",
    "kunnat dyka upp på ett kodtest.\n",
    "Skapa en funktion som tar två listor som argument och returnerar de gemensamma\n",
    "elementen i listorna i en ny lista.\n",
    "Exempelvis:\n",
    "common_elements([4, ’apple’, 10, ’hi’, 3], ([23 ’apple’, 5, 9, 3]) ska returnera svaret\n",
    "[’apple’, 3]."
   ]
  }
 ],
 "metadata": {
  "kernelspec": {
   "display_name": "Python [conda env:base] *",
   "language": "python",
   "name": "conda-base-py"
  },
  "language_info": {
   "codemirror_mode": {
    "name": "ipython",
    "version": 3
   },
   "file_extension": ".py",
   "mimetype": "text/x-python",
   "name": "python",
   "nbconvert_exporter": "python",
   "pygments_lexer": "ipython3",
   "version": "3.12.7"
  }
 },
 "nbformat": 4,
 "nbformat_minor": 5
}
